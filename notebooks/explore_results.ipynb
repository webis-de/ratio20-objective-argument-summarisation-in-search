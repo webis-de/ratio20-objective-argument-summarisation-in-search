{
 "cells": [
  {
   "cell_type": "code",
   "execution_count": 1,
   "metadata": {},
   "outputs": [],
   "source": [
    "import pandas as pd\n",
    "pd.set_option('display.max_colwidth', None)\n",
    "from tqdm import tqdm\n",
    "tqdm.pandas()\n",
    "from glob import glob\n",
    "import numpy as np\n",
    "import json"
   ]
  },
  {
   "cell_type": "markdown",
   "metadata": {},
   "source": [
    "#### Appropriateness Corpus"
   ]
  },
  {
   "cell_type": "markdown",
   "metadata": {},
   "source": [
    "**Summarization Results**"
   ]
  },
  {
   "cell_type": "code",
   "execution_count": 2,
   "metadata": {},
   "outputs": [],
   "source": [
    "documents = []\n",
    "llama_summaries = []\n",
    "bart_summaries = []"
   ]
  },
  {
   "cell_type": "code",
   "execution_count": 3,
   "metadata": {},
   "outputs": [],
   "source": [
    "app_df = pd.read_csv('../data/inappropriate_arguments_sample_100_appropriateness.csv')"
   ]
  },
  {
   "cell_type": "code",
   "execution_count": 4,
   "metadata": {},
   "outputs": [],
   "source": [
    "llama_df = pd.read_csv('../data/results-by-corpus/appropriateness/summarization/llama.csv', sep=\"\\t\", header=None)\n",
    "llama_df.columns = ['id', 'llama_gist']"
   ]
  },
  {
   "cell_type": "code",
   "execution_count": 5,
   "metadata": {},
   "outputs": [],
   "source": [
    "bart_df = pd.read_csv('../data/results-by-corpus/appropriateness/summarization/bart.csv')"
   ]
  },
  {
   "cell_type": "code",
   "execution_count": 6,
   "metadata": {},
   "outputs": [
    {
     "data": {
      "text/plain": [
       "issue                 100\n",
       "argument              100\n",
       "Reasons               100\n",
       "word_count            100\n",
       "supervised_summary    100\n",
       "dtype: int64"
      ]
     },
     "execution_count": 6,
     "metadata": {},
     "output_type": "execute_result"
    }
   ],
   "source": [
    "bart_df.count()"
   ]
  },
  {
   "cell_type": "code",
   "execution_count": 7,
   "metadata": {},
   "outputs": [],
   "source": [
    "documents = bart_df['argument'].tolist()\n",
    "llama_summaries = llama_df['llama_gist'].tolist()\n",
    "bart_summaries = bart_df['supervised_summary'].tolist()"
   ]
  },
  {
   "cell_type": "code",
   "execution_count": 8,
   "metadata": {},
   "outputs": [
    {
     "data": {
      "text/plain": [
       "(100, 100, 100)"
      ]
     },
     "execution_count": 8,
     "metadata": {},
     "output_type": "execute_result"
    }
   ],
   "source": [
    "len(documents), len(llama_summaries), len(bart_summaries)"
   ]
  },
  {
   "cell_type": "code",
   "execution_count": 9,
   "metadata": {},
   "outputs": [],
   "source": [
    "app_summary_records = []\n",
    "for doc, llama, bart in zip(documents, llama_summaries, bart_summaries):\n",
    "    record = {}\n",
    "    record['document'] = doc\n",
    "    record['reference'] = \" \" \n",
    "    record['llama_summary'] = llama\n",
    "    record['bart_summary'] = bart\n",
    "    app_summary_records.append(record)"
   ]
  },
  {
   "cell_type": "code",
   "execution_count": 10,
   "metadata": {},
   "outputs": [
    {
     "data": {
      "text/plain": [
       "100"
      ]
     },
     "execution_count": 10,
     "metadata": {},
     "output_type": "execute_result"
    }
   ],
   "source": [
    "len(app_summary_records)"
   ]
  },
  {
   "cell_type": "code",
   "execution_count": 11,
   "metadata": {},
   "outputs": [],
   "source": [
    "import json\n",
    "with open(\"../data/results_appropriateness_summarization.jsonl\", \"w\", encoding=\"utf-8\") as outf:\n",
    "    for record in app_summary_records:\n",
    "        outf.write(json.dumps(record) + \"\\n\")\n"
   ]
  },
  {
   "cell_type": "markdown",
   "metadata": {},
   "source": [
    "**Neutralization Results**"
   ]
  },
  {
   "cell_type": "code",
   "execution_count": 12,
   "metadata": {},
   "outputs": [
    {
     "data": {
      "text/plain": [
       "issue         100\n",
       "argument      100\n",
       "Reasons       100\n",
       "word_count    100\n",
       "dtype: int64"
      ]
     },
     "execution_count": 12,
     "metadata": {},
     "output_type": "execute_result"
    }
   ],
   "source": [
    "app_df.count()"
   ]
  },
  {
   "cell_type": "code",
   "execution_count": 13,
   "metadata": {},
   "outputs": [],
   "source": [
    "references = app_df['argument'].tolist()"
   ]
  },
  {
   "cell_type": "code",
   "execution_count": 14,
   "metadata": {},
   "outputs": [],
   "source": [
    "llam_ndf = pd.read_csv('../data/results-by-corpus/appropriateness/neutralization/llama.csv', sep=\"\\t\", header=None)\n",
    "llam_ndf.columns = ['id', 'llama_neutralization']"
   ]
  },
  {
   "cell_type": "code",
   "execution_count": 15,
   "metadata": {},
   "outputs": [],
   "source": [
    "llam_ndf_ppo_04a_06ss = pd.read_csv('../data/results-by-corpus/appropriateness/neutralization/llama_ppo_rewrite_appropriateness_llama-7b-harmonic-mean-04a-06ss.csv', sep=\"\\t\", header=None)\n",
    "llam_ndf_ppo_04a_06ss.columns = ['id', 'llama_neutralization']"
   ]
  },
  {
   "cell_type": "code",
   "execution_count": 16,
   "metadata": {},
   "outputs": [],
   "source": [
    "llam_ndf_ppo_045a_055ss = pd.read_csv('../data/results-by-corpus/appropriateness/neutralization/llama_ppo_rewrite_appropriateness_llama-7b-harmonic-mean-045a-055ss.csv', sep=\"\\t\", header=None)\n",
    "llam_ndf_ppo_045a_055ss.columns = ['id', 'llama_neutralization']"
   ]
  },
  {
   "cell_type": "code",
   "execution_count": 17,
   "metadata": {},
   "outputs": [],
   "source": [
    "llam_ndf_ppo_05a_05ss = pd.read_csv('../data/results-by-corpus/appropriateness/neutralization/llama_ppo_rewrite_appropriateness_llama-7b-harmonic-mean-05a-05ss.csv', sep=\"\\t\", header=None)\n",
    "llam_ndf_ppo_05a_05ss.columns = ['id', 'llama_neutralization']"
   ]
  },
  {
   "cell_type": "code",
   "execution_count": 18,
   "metadata": {},
   "outputs": [],
   "source": [
    "llam_ndf_ppo_055a_045ss = pd.read_csv('../data/results-by-corpus/appropriateness/neutralization/llama_ppo_rewrite_appropriateness_llama-7b-harmonic-mean-055a-045ss.csv', sep=\"\\t\", header=None)\n",
    "llam_ndf_ppo_055a_045ss.columns = ['id', 'llama_neutralization']"
   ]
  },
  {
   "cell_type": "code",
   "execution_count": 19,
   "metadata": {},
   "outputs": [],
   "source": [
    "llam_ndf_ppo_06a_04ss = pd.read_csv('../data/results-by-corpus/appropriateness/neutralization/llama_ppo_rewrite_appropriateness_llama-7b-harmonic-mean-06a-04ss.csv', sep=\"\\t\", header=None)\n",
    "llam_ndf_ppo_06a_04ss.columns = ['id', 'llama_neutralization']"
   ]
  },
  {
   "cell_type": "code",
   "execution_count": 20,
   "metadata": {},
   "outputs": [],
   "source": [
    "llam_ndf_ppo_10a_00ss = pd.read_csv('../data/results-by-corpus/appropriateness/neutralization/llama_ppo_rewrite_appropriateness_llama-7b-harmonic-mean-10a-00ss.csv', sep=\"\\t\", header=None)\n",
    "llam_ndf_ppo_10a_00ss.columns = ['id', 'llama_neutralization']"
   ]
  },
  {
   "cell_type": "code",
   "execution_count": 21,
   "metadata": {},
   "outputs": [
    {
     "data": {
      "text/plain": [
       "id                      100\n",
       "llama_neutralization    100\n",
       "dtype: int64"
      ]
     },
     "execution_count": 21,
     "metadata": {},
     "output_type": "execute_result"
    }
   ],
   "source": [
    "llam_ndf.count()"
   ]
  },
  {
   "cell_type": "code",
   "execution_count": 22,
   "metadata": {},
   "outputs": [],
   "source": [
    "neutralized = llam_ndf['llama_neutralization'].tolist()\n",
    "neutralized_ppo_04a_06ss = llam_ndf_ppo_04a_06ss['llama_neutralization'].tolist()\n",
    "neutralized_ppo_045a_055ss = llam_ndf_ppo_045a_055ss['llama_neutralization'].tolist()\n",
    "neutralized_ppo_05a_05ss = llam_ndf_ppo_05a_05ss['llama_neutralization'].tolist()\n",
    "neutralized_ppo_055a_045ss = llam_ndf_ppo_055a_045ss['llama_neutralization'].tolist()\n",
    "neutralized_ppo_06a_04ss = llam_ndf_ppo_06a_04ss['llama_neutralization'].tolist()\n",
    "neutralized_ppo_10a_00ss = llam_ndf_ppo_10a_00ss['llama_neutralization'].tolist()"
   ]
  },
  {
   "cell_type": "code",
   "execution_count": 23,
   "metadata": {},
   "outputs": [
    {
     "data": {
      "text/plain": [
       "(100, 100)"
      ]
     },
     "execution_count": 23,
     "metadata": {},
     "output_type": "execute_result"
    }
   ],
   "source": [
    "len(references), len(neutralized)"
   ]
  },
  {
   "cell_type": "code",
   "execution_count": 24,
   "metadata": {},
   "outputs": [],
   "source": [
    "records = []\n",
    "for ref, neutral, neutral_ppo_045a_055ss, neutral_ppo_04a_06ss, neutral_ppo_10a_00ss, neutral_ppo_06a_04ss, neutral_ppo_05a_05ss, neutral_ppo_055a_045ss in zip(references, neutralized, neutralized_ppo_045a_055ss, neutralized_ppo_04a_06ss, neutralized_ppo_10a_00ss, neutralized_ppo_06a_04ss, neutralized_ppo_05a_05ss, neutralized_ppo_055a_045ss):\n",
    "    record = {}\n",
    "    record['reference'] = ref\n",
    "    record['neutralized_ppo_040a_060ss'] = neutral_ppo_04a_06ss\n",
    "    record['neutralized_ppo_045a_055ss'] = neutral_ppo_045a_055ss\n",
    "    record['neutralized'] = neutral\n",
    "    record['neutralized_ppo_050a_050ss'] = neutral_ppo_05a_05ss\n",
    "    record['neutralized_ppo_055a_045ss'] = neutral_ppo_055a_045ss\n",
    "    record['neutralized_ppo_060a_040ss'] = neutral_ppo_06a_04ss\n",
    "    record['neutralized_ppo_100a_000ss'] = neutral_ppo_10a_00ss\n",
    "\n",
    "    records.append(record)\n",
    "\n",
    "with open(\"../data/results_appropriateness_neutralization.jsonl\", \"w\", encoding=\"utf-8\") as outf:\n",
    "    for record in records:\n",
    "        outf.write(json.dumps(record) + \"\\n\")"
   ]
  },
  {
   "cell_type": "markdown",
   "metadata": {},
   "source": [
    "**Summarize -> Neutralize (Single prompt)**"
   ]
  },
  {
   "cell_type": "code",
   "execution_count": 25,
   "metadata": {},
   "outputs": [],
   "source": [
    "app_df = pd.read_csv('../data/inappropriate_arguments_sample_100_appropriateness.csv')"
   ]
  },
  {
   "cell_type": "code",
   "execution_count": 26,
   "metadata": {},
   "outputs": [],
   "source": [
    "documents = app_df['argument'].tolist()"
   ]
  },
  {
   "cell_type": "code",
   "execution_count": 27,
   "metadata": {},
   "outputs": [],
   "source": [
    "single_prompt_both_df = pd.read_csv('../data/results-by-corpus/appropriateness/both/llama_extract_rewrite_appropriateness.csv', sep=\"\\t\", header=None)\n",
    "single_prompt_both_df.columns = ['id', 'llama_extract_rewrite']"
   ]
  },
  {
   "cell_type": "code",
   "execution_count": 28,
   "metadata": {},
   "outputs": [],
   "source": [
    "gist_neutralize_single_prompt_responses = single_prompt_both_df['llama_extract_rewrite'].tolist()"
   ]
  },
  {
   "cell_type": "markdown",
   "metadata": {},
   "source": [
    "**Summarize -> Neutralize (Individual Prompts)**"
   ]
  },
  {
   "cell_type": "code",
   "execution_count": 29,
   "metadata": {},
   "outputs": [],
   "source": [
    "two_prompts_df = pd.read_csv('../data/results-by-corpus/appropriateness/both/llama_extract_then_rewrite_appropriateness.csv', sep=\"\\t\", header=None)\n",
    "two_prompts_df.columns = ['id', 'llama_extract_then_rewrite']"
   ]
  },
  {
   "cell_type": "code",
   "execution_count": 30,
   "metadata": {},
   "outputs": [],
   "source": [
    "gist_neutralize_two_prompts_responses = two_prompts_df['llama_extract_then_rewrite'].tolist()"
   ]
  },
  {
   "cell_type": "markdown",
   "metadata": {},
   "source": [
    "**Neutralize -> Summarize (Single Prompt)**"
   ]
  },
  {
   "cell_type": "code",
   "execution_count": 31,
   "metadata": {},
   "outputs": [],
   "source": [
    "swap_order_single_prompt_df = pd.read_csv('../data/results-by-corpus/appropriateness/both/llama_rewrite_extract_appropriateness.csv', sep=\"\\t\", header=None)\n",
    "swap_order_single_prompt_df.columns = ['id', 'llama_rewrite_extract']"
   ]
  },
  {
   "cell_type": "code",
   "execution_count": 32,
   "metadata": {},
   "outputs": [],
   "source": [
    "neutralize_gist_single_prompt_responses = swap_order_single_prompt_df['llama_rewrite_extract'].tolist()"
   ]
  },
  {
   "cell_type": "markdown",
   "metadata": {},
   "source": [
    "**Neutralize -> Summarize (Individual Prompts)**"
   ]
  },
  {
   "cell_type": "code",
   "execution_count": 33,
   "metadata": {},
   "outputs": [],
   "source": [
    "swap_order_two_prompts_df = pd.read_csv('../data/results-by-corpus/appropriateness/both/llama_rewrite_then_extract_appropriateness.csv', sep=\"\\t\", header=None)\n",
    "swap_order_two_prompts_df.columns = ['id', 'llama_rewrite_then_extract']"
   ]
  },
  {
   "cell_type": "code",
   "execution_count": 34,
   "metadata": {},
   "outputs": [],
   "source": [
    "neutralize_gist_two_prompts_responses = swap_order_two_prompts_df['llama_rewrite_then_extract'].tolist()"
   ]
  },
  {
   "cell_type": "code",
   "execution_count": 35,
   "metadata": {},
   "outputs": [
    {
     "data": {
      "text/plain": [
       "(100, 100, 100, 100, 100)"
      ]
     },
     "execution_count": 35,
     "metadata": {},
     "output_type": "execute_result"
    }
   ],
   "source": [
    "len(documents), len(gist_neutralize_single_prompt_responses), len(gist_neutralize_two_prompts_responses), len(neutralize_gist_single_prompt_responses), len(neutralize_gist_two_prompts_responses)"
   ]
  },
  {
   "cell_type": "code",
   "execution_count": 36,
   "metadata": {},
   "outputs": [],
   "source": [
    "with open(\"../data/results_appropriateness_oasis.jsonl\", \"w\", encoding=\"utf-8\") as outf:\n",
    "    for doc, gist_neut_single, gist_neut_two, neut_gist_single, neut_gist_two in zip(documents, gist_neutralize_single_prompt_responses, gist_neutralize_two_prompts_responses, neutralize_gist_single_prompt_responses, neutralize_gist_two_prompts_responses):\n",
    "        record = {}\n",
    "        record['document'] = doc\n",
    "        record['reference'] = \" \"\n",
    "        record['gist_neutralize_single_prompt'] = gist_neut_single\n",
    "        record['gist_neutralize_two_prompts'] = gist_neut_two\n",
    "        record['neutralize_gist_single_prompt'] = neut_gist_single\n",
    "        record['neutralize_gist_two_prompts'] = neut_gist_two\n",
    "        outf.write(json.dumps(record) + \"\\n\")"
   ]
  },
  {
   "cell_type": "markdown",
   "metadata": {},
   "source": [
    "#### Args.me Corpus"
   ]
  },
  {
   "cell_type": "markdown",
   "metadata": {},
   "source": [
    "**Summarization Results**"
   ]
  },
  {
   "cell_type": "code",
   "execution_count": 37,
   "metadata": {},
   "outputs": [],
   "source": [
    "documents = []\n",
    "argsme_summaries = []\n",
    "llama_summaries = []\n",
    "bart_summaries = []"
   ]
  },
  {
   "cell_type": "code",
   "execution_count": 38,
   "metadata": {},
   "outputs": [],
   "source": [
    "args_df = pd.read_csv(\"../data/inappropriate_arguments_sample_100_argsme.csv\")"
   ]
  },
  {
   "cell_type": "code",
   "execution_count": 39,
   "metadata": {},
   "outputs": [
    {
     "data": {
      "text/plain": [
       "query            99\n",
       "argument         99\n",
       "stance           99\n",
       "snippet          99\n",
       "id               99\n",
       "prediction       99\n",
       "appropriate      99\n",
       "inappropriate    99\n",
       "dtype: int64"
      ]
     },
     "execution_count": 39,
     "metadata": {},
     "output_type": "execute_result"
    }
   ],
   "source": [
    "args_df.count()"
   ]
  },
  {
   "cell_type": "code",
   "execution_count": 40,
   "metadata": {},
   "outputs": [],
   "source": [
    "documents = args_df['argument'].tolist()\n",
    "args_snippets = args_df['snippet'].tolist()"
   ]
  },
  {
   "cell_type": "code",
   "execution_count": 41,
   "metadata": {},
   "outputs": [
    {
     "data": {
      "text/plain": [
       "(99, 99)"
      ]
     },
     "execution_count": 41,
     "metadata": {},
     "output_type": "execute_result"
    }
   ],
   "source": [
    "len(documents), len(args_snippets)"
   ]
  },
  {
   "cell_type": "code",
   "execution_count": 42,
   "metadata": {},
   "outputs": [],
   "source": [
    "llama_df = pd.read_csv(\"../data/results-by-corpus/argsme/summarization/llama.csv\", sep=\"\\t\", header=None)\n",
    "llama_df.columns = ['id', 'llama_gist']"
   ]
  },
  {
   "cell_type": "code",
   "execution_count": 43,
   "metadata": {},
   "outputs": [
    {
     "data": {
      "text/plain": [
       "id            99\n",
       "llama_gist    99\n",
       "dtype: int64"
      ]
     },
     "execution_count": 43,
     "metadata": {},
     "output_type": "execute_result"
    }
   ],
   "source": [
    "llama_df.count()"
   ]
  },
  {
   "cell_type": "code",
   "execution_count": 44,
   "metadata": {},
   "outputs": [],
   "source": [
    "llama_summaries = llama_df['llama_gist'].tolist()"
   ]
  },
  {
   "cell_type": "code",
   "execution_count": 45,
   "metadata": {},
   "outputs": [],
   "source": [
    "bart_df = pd.read_csv(\"../data/results-by-corpus/argsme/summarization/bart.csv\")"
   ]
  },
  {
   "cell_type": "code",
   "execution_count": 46,
   "metadata": {},
   "outputs": [
    {
     "data": {
      "text/plain": [
       "Unnamed: 0       99\n",
       "query            99\n",
       "argument         99\n",
       "stance           99\n",
       "snippet          99\n",
       "id               99\n",
       "prediction       99\n",
       "appropriate      99\n",
       "inappropriate    99\n",
       "word_count       99\n",
       "bart_gist        99\n",
       "dtype: int64"
      ]
     },
     "execution_count": 46,
     "metadata": {},
     "output_type": "execute_result"
    }
   ],
   "source": [
    "bart_df.count()"
   ]
  },
  {
   "cell_type": "code",
   "execution_count": 47,
   "metadata": {},
   "outputs": [],
   "source": [
    "bart_summaries = bart_df['bart_gist'].tolist()"
   ]
  },
  {
   "cell_type": "code",
   "execution_count": 48,
   "metadata": {},
   "outputs": [
    {
     "data": {
      "text/plain": [
       "(99, 99, 99, 99)"
      ]
     },
     "execution_count": 48,
     "metadata": {},
     "output_type": "execute_result"
    }
   ],
   "source": [
    "len(documents), len(args_snippets), len(llama_summaries), len(bart_summaries)"
   ]
  },
  {
   "cell_type": "code",
   "execution_count": 49,
   "metadata": {},
   "outputs": [],
   "source": [
    "with open(\"../data/results_argsme_summarization.jsonl\", \"w\", encoding=\"utf-8\") as outf:\n",
    "    for doc, snippet, llama, bart in zip(documents, args_snippets, llama_summaries, bart_summaries):\n",
    "        record = {}\n",
    "        record['document'] = doc\n",
    "        record['reference'] = snippet\n",
    "        record['llama_summary'] = llama\n",
    "        record['bart_summary'] = bart\n",
    "        outf.write(json.dumps(record) + \"\\n\")"
   ]
  },
  {
   "cell_type": "markdown",
   "metadata": {},
   "source": [
    "**Neutralization Results**"
   ]
  },
  {
   "cell_type": "code",
   "execution_count": 50,
   "metadata": {},
   "outputs": [],
   "source": [
    "args_df = pd.read_csv(\"../data/inappropriate_arguments_sample_100_argsme.csv\")"
   ]
  },
  {
   "cell_type": "code",
   "execution_count": 51,
   "metadata": {},
   "outputs": [
    {
     "data": {
      "text/plain": [
       "query            99\n",
       "argument         99\n",
       "stance           99\n",
       "snippet          99\n",
       "id               99\n",
       "prediction       99\n",
       "appropriate      99\n",
       "inappropriate    99\n",
       "dtype: int64"
      ]
     },
     "execution_count": 51,
     "metadata": {},
     "output_type": "execute_result"
    }
   ],
   "source": [
    "args_df.count()"
   ]
  },
  {
   "cell_type": "code",
   "execution_count": 52,
   "metadata": {},
   "outputs": [],
   "source": [
    "references = args_df['argument'].tolist()"
   ]
  },
  {
   "cell_type": "code",
   "execution_count": 53,
   "metadata": {},
   "outputs": [
    {
     "data": {
      "text/plain": [
       "99"
      ]
     },
     "execution_count": 53,
     "metadata": {},
     "output_type": "execute_result"
    }
   ],
   "source": [
    "len(references)"
   ]
  },
  {
   "cell_type": "code",
   "execution_count": 54,
   "metadata": {},
   "outputs": [],
   "source": [
    "llam_ndf = pd.read_csv('../data/results-by-corpus/argsme/neutralization/llama.csv', sep=\"\\t\", header=None)\n",
    "llam_ndf.columns = ['id', 'llama_neutralization']"
   ]
  },
  {
   "cell_type": "code",
   "execution_count": 55,
   "metadata": {},
   "outputs": [],
   "source": [
    "neutralized = llam_ndf['llama_neutralization'].tolist()"
   ]
  },
  {
   "cell_type": "code",
   "execution_count": 56,
   "metadata": {},
   "outputs": [
    {
     "data": {
      "text/plain": [
       "(99, 99)"
      ]
     },
     "execution_count": 56,
     "metadata": {},
     "output_type": "execute_result"
    }
   ],
   "source": [
    "len(references), len(neutralized)"
   ]
  },
  {
   "cell_type": "code",
   "execution_count": 57,
   "metadata": {},
   "outputs": [],
   "source": [
    "with open(\"../data/results_argsme_neutralization.jsonl\", \"w\", encoding=\"utf-8\") as outf:\n",
    "    for ref, neutral in zip(references, neutralized):\n",
    "        record = {}\n",
    "        record['reference'] = ref\n",
    "        record['neutralized'] = neutral\n",
    "        outf.write(json.dumps(record) + \"\\n\")"
   ]
  },
  {
   "cell_type": "markdown",
   "metadata": {},
   "source": [
    "**Summarize -> Neutralize (Single Prompt)**"
   ]
  },
  {
   "cell_type": "code",
   "execution_count": 58,
   "metadata": {},
   "outputs": [],
   "source": [
    "args_df = pd.read_csv(\"../data/inappropriate_arguments_sample_100_argsme.csv\")\n",
    "documents = args_df['argument'].tolist()"
   ]
  },
  {
   "cell_type": "code",
   "execution_count": 59,
   "metadata": {},
   "outputs": [],
   "source": [
    "single_prompt_both_df = pd.read_csv('../data/results-by-corpus/argsme/both/llama_extract_rewrite_argsme.csv', sep=\"\\t\", header=None)\n",
    "single_prompt_both_df.columns = ['id', 'llama_extract_rewrite']"
   ]
  },
  {
   "cell_type": "code",
   "execution_count": 60,
   "metadata": {},
   "outputs": [],
   "source": [
    "gist_neutralize_single_prompt_responses = single_prompt_both_df['llama_extract_rewrite'].tolist()"
   ]
  },
  {
   "cell_type": "markdown",
   "metadata": {},
   "source": [
    "**Summarize -> Neutralize (Individual Prompts)**"
   ]
  },
  {
   "cell_type": "code",
   "execution_count": 61,
   "metadata": {},
   "outputs": [],
   "source": [
    "two_prompts_df = pd.read_csv('../data/results-by-corpus/argsme/both/llama_extract_then_rewrite_argsme.csv', sep=\"\\t\", header=None)\n",
    "two_prompts_df.columns = ['id', 'llama_extract_then_rewrite']"
   ]
  },
  {
   "cell_type": "code",
   "execution_count": 62,
   "metadata": {},
   "outputs": [],
   "source": [
    "gist_neutralize_two_prompts_responses = two_prompts_df['llama_extract_then_rewrite'].tolist()"
   ]
  },
  {
   "cell_type": "markdown",
   "metadata": {},
   "source": [
    "**Neutralize -> Summarize (Single Prompt)**"
   ]
  },
  {
   "cell_type": "code",
   "execution_count": 63,
   "metadata": {},
   "outputs": [],
   "source": [
    "swap_order_single_prompt_df = pd.read_csv('../data/results-by-corpus/argsme/both/llama_rewrite_extract_argsme.csv', sep=\"\\t\", header=None)\n",
    "swap_order_single_prompt_df.columns = ['id', 'llama_rewrite_extract']"
   ]
  },
  {
   "cell_type": "code",
   "execution_count": 64,
   "metadata": {},
   "outputs": [],
   "source": [
    "neutralize_gist_single_prompt_responses = swap_order_single_prompt_df['llama_rewrite_extract'].tolist()"
   ]
  },
  {
   "cell_type": "markdown",
   "metadata": {},
   "source": [
    "**Neutralize -> Summarize (Individual Prompts)**"
   ]
  },
  {
   "cell_type": "code",
   "execution_count": 65,
   "metadata": {},
   "outputs": [],
   "source": [
    "swap_order_two_prompts_df = pd.read_csv('../data/results-by-corpus/argsme/both/llama_rewrite_then_extract_argsme.csv', sep=\"\\t\", header=None)\n",
    "swap_order_two_prompts_df.columns = ['id', 'llama_rewrite_then_extract']"
   ]
  },
  {
   "cell_type": "code",
   "execution_count": 66,
   "metadata": {},
   "outputs": [],
   "source": [
    "neutralize_gist_two_prompts_responses = swap_order_two_prompts_df['llama_rewrite_then_extract'].tolist()"
   ]
  },
  {
   "cell_type": "code",
   "execution_count": 67,
   "metadata": {},
   "outputs": [],
   "source": [
    "with open(\"../data/results_argsme_oasis.jsonl\", \"w\", encoding=\"utf-8\") as outf:\n",
    "    for doc, gist_neut_single, gist_neut_two, neut_gist_single, neut_gist_two in zip(documents, gist_neutralize_single_prompt_responses, gist_neutralize_two_prompts_responses, neutralize_gist_single_prompt_responses, neutralize_gist_two_prompts_responses):\n",
    "        record = {}\n",
    "        record['document'] = doc\n",
    "        record['reference'] = \" \"\n",
    "        record['gist_neutralize_single_prompt'] = gist_neut_single\n",
    "        record['gist_neutralize_two_prompts'] = gist_neut_two\n",
    "        record['neutralize_gist_single_prompt'] = neut_gist_single\n",
    "        record['neutralize_gist_two_prompts'] = neut_gist_two\n",
    "        outf.write(json.dumps(record) + \"\\n\")"
   ]
  },
  {
   "cell_type": "markdown",
   "metadata": {},
   "source": [
    "Args.me: Gist and Neutralize vs Neutralize and Gist"
   ]
  },
  {
   "cell_type": "code",
   "execution_count": 68,
   "metadata": {},
   "outputs": [],
   "source": [
    "n_g_df = pd.read_csv('../data/results-by-corpus/argsme/both/neutralized_and_bart_summarized.csv')"
   ]
  },
  {
   "cell_type": "code",
   "execution_count": 69,
   "metadata": {},
   "outputs": [],
   "source": [
    "# drop unnamed column\n",
    "n_g_df = n_g_df.drop(n_g_df.columns[0], axis=1)"
   ]
  },
  {
   "cell_type": "code",
   "execution_count": 70,
   "metadata": {},
   "outputs": [
    {
     "data": {
      "text/html": [
       "<div>\n",
       "<style scoped>\n",
       "    .dataframe tbody tr th:only-of-type {\n",
       "        vertical-align: middle;\n",
       "    }\n",
       "\n",
       "    .dataframe tbody tr th {\n",
       "        vertical-align: top;\n",
       "    }\n",
       "\n",
       "    .dataframe thead th {\n",
       "        text-align: right;\n",
       "    }\n",
       "</style>\n",
       "<table border=\"1\" class=\"dataframe\">\n",
       "  <thead>\n",
       "    <tr style=\"text-align: right;\">\n",
       "      <th></th>\n",
       "      <th>id</th>\n",
       "      <th>neutralized_argument</th>\n",
       "      <th>word_count</th>\n",
       "      <th>bart_gist</th>\n",
       "    </tr>\n",
       "  </thead>\n",
       "  <tbody>\n",
       "    <tr>\n",
       "      <th>0</th>\n",
       "      <td>0</td>\n",
       "      <td>Climate change is a complex and multifaceted issue, and the causes and effects of it are still being studied and debated. While carbon dioxide exhalation and car emissions do contribute to climate change, the overall effect is still significant. It is important to consider both natural and man-made sources of carbon dioxide when evaluating the effects of climate change. In addition, the evidence suggests that climate change is occurring and that human activities are the major cause. The sources provided give an interesting overview of the topic, but the conclusions drawn should be carefully considered as the accuracy and reliability of the sources should be considered as well.</td>\n",
       "      <td>109</td>\n",
       "      <td>Climate change is a complex and multifaceted issue, and the causes and effects of it are still being studied and debated. While carbon dioxide exhalation and car emissions do</td>\n",
       "    </tr>\n",
       "    <tr>\n",
       "      <th>1</th>\n",
       "      <td>1</td>\n",
       "      <td>The consensus that humans are causing recent global warming is shared by 90-100% of publishing climate scientists according to six independent studies by co-authors of this paper. Those results are consistent with the 97% consensus reported by Cook et al. (2013). This consensus strongly supports the view that humans are causing climate change and that the impacts of climate change could be severe. It is thus essential that we take immediate action to reduce emissions and mitigate the impacts of climate change.</td>\n",
       "      <td>84</td>\n",
       "      <td>The consensus that humans are causing recent global warming is shared by 90-100% of publishing climate scientists. This consensus strongly supports the</td>\n",
       "    </tr>\n",
       "    <tr>\n",
       "      <th>2</th>\n",
       "      <td>2</td>\n",
       "      <td>My position on climate change is that it is undeniable and largely caused by human activities. According to numerous scientific studies, 97% of climate scientists agree that climate change is occurring and is caused by human-induced emissions. Additionally, the arguments presented by climate change deniers are usually not based on facts, but on personal beliefs. It is clear that the climate is changing and it is important for all of us to take action to reduce the impact of our activities on the environment. Sources: Shaftel, H. (Ed.). (2012, January 5). Global Climate Change: Consensus. Retrieved February 3, 2015, from http://climate.nasa.gov...</td>\n",
       "      <td>105</td>\n",
       "      <td>The arguments presented by climate change deniers are usually not based on facts, but on personal beliefs. 97% of climate scientists agree that climate change is occurring and is</td>\n",
       "    </tr>\n",
       "    <tr>\n",
       "      <th>3</th>\n",
       "      <td>3</td>\n",
       "      <td>There is an overwhelming scientific consensus that climate change presents a serious risk to the future of the Earth and to mankind. Many of the threats we face due to climate change are insidious and while with others the connection may not be noticed by the deniers. But they are real and serious. Among these are the spread of potentially lethal diseases such as that caused by the Zika virus. Other diseases formerly confined to the tropics will spread across North America and Europe.   It is clear that climate change poses a real risk, and this risk is being exacerbated by human activity. There are a limited number of circumstances under which free speech can be restricted. One of them is child pornography. The reason that can be banned with violating the 1st Amendment is the harm caused to children in the production of child porn is of such magnitude that it outweighs the importance of the right to freedom of expression.  The spread of climate change-induced diseases and conflict may indeed be a real possibility in the future, and measures should be taken to minimize this risk. Though it is important to be aware of the potential risks, it is also essential to ensure that balanced and accurate information is made available in order to properly inform people of the risks and ensure that the most appropriate actions are taken.  It is important to ensure that reliable information is available to allow people to make informed decisions.</td>\n",
       "      <td>249</td>\n",
       "      <td>There is an overwhelming scientific consensus that climate change presents a serious risk to the future of the Earth and to mankind. There are a limited number of circumstances under which free speech can be restricted. The reason that can be banned with violating the 1st Amendment is the harm caused to children in the production of child porn is of such magnitude.</td>\n",
       "    </tr>\n",
       "    <tr>\n",
       "      <th>4</th>\n",
       "      <td>4</td>\n",
       "      <td>I'll accept this challenge. First, I should ask to be clear: When you say \"climate change is a fraud,\" are you referring specifically to anthropogenic climate change or all climate change? If it is the former, then I believe the evidence suggests that the globe is, in fact, warming at an unprecedented rate and that the majority of scientists are correct in their assessments. However, if you don't believe that climate change is happening at an unprecedented rate, then I am happy to go into the evidence for it.   This debate does require a larger burden of proof as it does involve a complex topic with multiple layers of evidence. It is important to take both sides of the argument into consideration in order to draw a conclusive conclusion.   I am willing to take the time to explain the evidence and to ensure that both sides are presented fairly. It would be beneficial for us to do so in order to fully understand the complexity of the issue. Therefore, I am willing to make the time commitment in order to reach a satisfactory conclusion.  I look forward to engaging in this debate and to learning more about the topic.</td>\n",
       "      <td>201</td>\n",
       "      <td>\"I'll accept this challenge. If you don't believe that climate change is happening at an unprecedented rate, then I am happy to go into the evidence for it,\" he says. \"This debate does require a larger burden of proof as it does involve a complex topic\"</td>\n",
       "    </tr>\n",
       "  </tbody>\n",
       "</table>\n",
       "</div>"
      ],
      "text/plain": [
       "   id  \\\n",
       "0   0   \n",
       "1   1   \n",
       "2   2   \n",
       "3   3   \n",
       "4   4   \n",
       "\n",
       "                                                                                                                                                                                                                                                                                                                                                                                                                                                                                                                                                                                                                                                                                                                                                                                                                                                                                                                                                                                                                                                                                                                                                                                                                                                                                                                                                                                                                                                                                                neutralized_argument  \\\n",
       "0                                                                                                                                                                                                                                                                                                                                                                                                                                                                                                                                                                                                                                                                                                                                                                                                      Climate change is a complex and multifaceted issue, and the causes and effects of it are still being studied and debated. While carbon dioxide exhalation and car emissions do contribute to climate change, the overall effect is still significant. It is important to consider both natural and man-made sources of carbon dioxide when evaluating the effects of climate change. In addition, the evidence suggests that climate change is occurring and that human activities are the major cause. The sources provided give an interesting overview of the topic, but the conclusions drawn should be carefully considered as the accuracy and reliability of the sources should be considered as well.   \n",
       "1                                                                                                                                                                                                                                                                                                                                                                                                                                                                                                                                                                                                                                                                                                                                                                                                                                                                                                                                                                                The consensus that humans are causing recent global warming is shared by 90-100% of publishing climate scientists according to six independent studies by co-authors of this paper. Those results are consistent with the 97% consensus reported by Cook et al. (2013). This consensus strongly supports the view that humans are causing climate change and that the impacts of climate change could be severe. It is thus essential that we take immediate action to reduce emissions and mitigate the impacts of climate change.   \n",
       "2                                                                                                                                                                                                                                                                                                                                                                                                                                                                                                                                                                                                                                                                                                                                                                                                                                     My position on climate change is that it is undeniable and largely caused by human activities. According to numerous scientific studies, 97% of climate scientists agree that climate change is occurring and is caused by human-induced emissions. Additionally, the arguments presented by climate change deniers are usually not based on facts, but on personal beliefs. It is clear that the climate is changing and it is important for all of us to take action to reduce the impact of our activities on the environment. Sources: Shaftel, H. (Ed.). (2012, January 5). Global Climate Change: Consensus. Retrieved February 3, 2015, from http://climate.nasa.gov...   \n",
       "3  There is an overwhelming scientific consensus that climate change presents a serious risk to the future of the Earth and to mankind. Many of the threats we face due to climate change are insidious and while with others the connection may not be noticed by the deniers. But they are real and serious. Among these are the spread of potentially lethal diseases such as that caused by the Zika virus. Other diseases formerly confined to the tropics will spread across North America and Europe.   It is clear that climate change poses a real risk, and this risk is being exacerbated by human activity. There are a limited number of circumstances under which free speech can be restricted. One of them is child pornography. The reason that can be banned with violating the 1st Amendment is the harm caused to children in the production of child porn is of such magnitude that it outweighs the importance of the right to freedom of expression.  The spread of climate change-induced diseases and conflict may indeed be a real possibility in the future, and measures should be taken to minimize this risk. Though it is important to be aware of the potential risks, it is also essential to ensure that balanced and accurate information is made available in order to properly inform people of the risks and ensure that the most appropriate actions are taken.  It is important to ensure that reliable information is available to allow people to make informed decisions.   \n",
       "4                                                                                                                                                                                                                                                                                                                                         I'll accept this challenge. First, I should ask to be clear: When you say \"climate change is a fraud,\" are you referring specifically to anthropogenic climate change or all climate change? If it is the former, then I believe the evidence suggests that the globe is, in fact, warming at an unprecedented rate and that the majority of scientists are correct in their assessments. However, if you don't believe that climate change is happening at an unprecedented rate, then I am happy to go into the evidence for it.   This debate does require a larger burden of proof as it does involve a complex topic with multiple layers of evidence. It is important to take both sides of the argument into consideration in order to draw a conclusive conclusion.   I am willing to take the time to explain the evidence and to ensure that both sides are presented fairly. It would be beneficial for us to do so in order to fully understand the complexity of the issue. Therefore, I am willing to make the time commitment in order to reach a satisfactory conclusion.  I look forward to engaging in this debate and to learning more about the topic.   \n",
       "\n",
       "   word_count  \\\n",
       "0         109   \n",
       "1          84   \n",
       "2         105   \n",
       "3         249   \n",
       "4         201   \n",
       "\n",
       "                                                                                                                                                                                                                                                                                                                                                                         bart_gist  \n",
       "0                                                                                                                                                                                                   Climate change is a complex and multifaceted issue, and the causes and effects of it are still being studied and debated. While carbon dioxide exhalation and car emissions do  \n",
       "1                                                                                                                                                                                                                          The consensus that humans are causing recent global warming is shared by 90-100% of publishing climate scientists. This consensus strongly supports the  \n",
       "2                                                                                                                                                                                               The arguments presented by climate change deniers are usually not based on facts, but on personal beliefs. 97% of climate scientists agree that climate change is occurring and is  \n",
       "3  There is an overwhelming scientific consensus that climate change presents a serious risk to the future of the Earth and to mankind. There are a limited number of circumstances under which free speech can be restricted. The reason that can be banned with violating the 1st Amendment is the harm caused to children in the production of child porn is of such magnitude.  \n",
       "4                                                                                                                    \"I'll accept this challenge. If you don't believe that climate change is happening at an unprecedented rate, then I am happy to go into the evidence for it,\" he says. \"This debate does require a larger burden of proof as it does involve a complex topic\"  "
      ]
     },
     "execution_count": 70,
     "metadata": {},
     "output_type": "execute_result"
    }
   ],
   "source": [
    "n_g_df.head()"
   ]
  },
  {
   "cell_type": "code",
   "execution_count": 71,
   "metadata": {},
   "outputs": [
    {
     "name": "stderr",
     "output_type": "stream",
     "text": [
      "/tmp/ipykernel_173046/594458966.py:1: ParserWarning: Falling back to the 'python' engine because the 'c' engine does not support regex separators (separators > 1 char and different from '\\s+' are interpreted as regex); you can avoid this warning by specifying engine='python'.\n",
      "  g_n_df = pd.read_csv('../data/results-by-corpus/argsme/both/bart_summarized_and_neutralized.csv', sep=\"\\\\t\", header=None)\n"
     ]
    }
   ],
   "source": [
    "g_n_df = pd.read_csv('../data/results-by-corpus/argsme/both/bart_summarized_and_neutralized.csv', sep=\"\\\\t\", header=None)"
   ]
  },
  {
   "cell_type": "code",
   "execution_count": 72,
   "metadata": {},
   "outputs": [
    {
     "data": {
      "text/html": [
       "<div>\n",
       "<style scoped>\n",
       "    .dataframe tbody tr th:only-of-type {\n",
       "        vertical-align: middle;\n",
       "    }\n",
       "\n",
       "    .dataframe tbody tr th {\n",
       "        vertical-align: top;\n",
       "    }\n",
       "\n",
       "    .dataframe thead th {\n",
       "        text-align: right;\n",
       "    }\n",
       "</style>\n",
       "<table border=\"1\" class=\"dataframe\">\n",
       "  <thead>\n",
       "    <tr style=\"text-align: right;\">\n",
       "      <th></th>\n",
       "      <th>0</th>\n",
       "      <th>1</th>\n",
       "    </tr>\n",
       "  </thead>\n",
       "  <tbody>\n",
       "    <tr>\n",
       "      <th>0</th>\n",
       "      <td>0</td>\n",
       "      <td>Climate change is an urgent issue that requires our attention, as the impacts of global warming are becoming more and more evident.</td>\n",
       "    </tr>\n",
       "    <tr>\n",
       "      <th>1</th>\n",
       "      <td>1</td>\n",
       "      <td>There is a scientific consensus on the reality of anthropogenic climate change. Human-induced climate change has already caused numerous deaths due to extreme weather events and health conditions exacerbated by heat waves. According to the World Health Organization, climate change is estimated to claim over 150,000 lives annually. Diseases caused by climate fluctuations are becoming more common, from cardiovascular mortality and respiratory illnesses due to heat waves.</td>\n",
       "    </tr>\n",
       "    <tr>\n",
       "      <th>2</th>\n",
       "      <td>2</td>\n",
       "      <td>My position on climate change is that I believe it is occurring and is caused in part by human activities.</td>\n",
       "    </tr>\n",
       "    <tr>\n",
       "      <th>3</th>\n",
       "      <td>3</td>\n",
       "      <td>There is an overwhelming scientific consensus that climate change is primarily caused by human activities. The potential risks to children in connection with climate change are so serious that traditional measures of combatting bad speech may not be adequate or sufficient. Teenagers may be especially affected by the adverse effects of climate change, as they may be more vulnerable to the risks associated with it due to their age.</td>\n",
       "    </tr>\n",
       "    <tr>\n",
       "      <th>4</th>\n",
       "      <td>4</td>\n",
       "      <td>Given the amount of evidence indicating that climate change is occurring, it is likely that human activities are contributing to it. While this phenomenon is still debated among scientists, the consensus is that climate change is occurring and caused in part by human activities.</td>\n",
       "    </tr>\n",
       "  </tbody>\n",
       "</table>\n",
       "</div>"
      ],
      "text/plain": [
       "   0  \\\n",
       "0  0   \n",
       "1  1   \n",
       "2  2   \n",
       "3  3   \n",
       "4  4   \n",
       "\n",
       "                                                                                                                                                                                                                                                                                                                                                                                                                                                                                           1  \n",
       "0                                                                                                                                                                                                                                                                                                                                                        Climate change is an urgent issue that requires our attention, as the impacts of global warming are becoming more and more evident.  \n",
       "1  There is a scientific consensus on the reality of anthropogenic climate change. Human-induced climate change has already caused numerous deaths due to extreme weather events and health conditions exacerbated by heat waves. According to the World Health Organization, climate change is estimated to claim over 150,000 lives annually. Diseases caused by climate fluctuations are becoming more common, from cardiovascular mortality and respiratory illnesses due to heat waves.  \n",
       "2                                                                                                                                                                                                                                                                                                                                                                                 My position on climate change is that I believe it is occurring and is caused in part by human activities.  \n",
       "3                                          There is an overwhelming scientific consensus that climate change is primarily caused by human activities. The potential risks to children in connection with climate change are so serious that traditional measures of combatting bad speech may not be adequate or sufficient. Teenagers may be especially affected by the adverse effects of climate change, as they may be more vulnerable to the risks associated with it due to their age.  \n",
       "4                                                                                                                                                                                                    Given the amount of evidence indicating that climate change is occurring, it is likely that human activities are contributing to it. While this phenomenon is still debated among scientists, the consensus is that climate change is occurring and caused in part by human activities.  "
      ]
     },
     "execution_count": 72,
     "metadata": {},
     "output_type": "execute_result"
    }
   ],
   "source": [
    "g_n_df.head()"
   ]
  },
  {
   "cell_type": "code",
   "execution_count": 73,
   "metadata": {},
   "outputs": [
    {
     "data": {
      "text/plain": [
       "17"
      ]
     },
     "execution_count": 73,
     "metadata": {},
     "output_type": "execute_result"
    }
   ],
   "source": [
    "g_n_df[0][17]"
   ]
  },
  {
   "cell_type": "code",
   "execution_count": 74,
   "metadata": {},
   "outputs": [
    {
     "data": {
      "text/plain": [
       "99"
      ]
     },
     "execution_count": 74,
     "metadata": {},
     "output_type": "execute_result"
    }
   ],
   "source": [
    "len(g_n_df)"
   ]
  },
  {
   "cell_type": "code",
   "execution_count": 75,
   "metadata": {},
   "outputs": [],
   "source": [
    "g_n_df.columns = ['id', 'bart_summarized_and_neutralized']"
   ]
  },
  {
   "cell_type": "code",
   "execution_count": 76,
   "metadata": {},
   "outputs": [
    {
     "data": {
      "text/html": [
       "<div>\n",
       "<style scoped>\n",
       "    .dataframe tbody tr th:only-of-type {\n",
       "        vertical-align: middle;\n",
       "    }\n",
       "\n",
       "    .dataframe tbody tr th {\n",
       "        vertical-align: top;\n",
       "    }\n",
       "\n",
       "    .dataframe thead th {\n",
       "        text-align: right;\n",
       "    }\n",
       "</style>\n",
       "<table border=\"1\" class=\"dataframe\">\n",
       "  <thead>\n",
       "    <tr style=\"text-align: right;\">\n",
       "      <th></th>\n",
       "      <th>id</th>\n",
       "      <th>bart_summarized_and_neutralized</th>\n",
       "    </tr>\n",
       "  </thead>\n",
       "  <tbody>\n",
       "    <tr>\n",
       "      <th>0</th>\n",
       "      <td>0</td>\n",
       "      <td>Climate change is an urgent issue that requires our attention, as the impacts of global warming are becoming more and more evident.</td>\n",
       "    </tr>\n",
       "    <tr>\n",
       "      <th>1</th>\n",
       "      <td>1</td>\n",
       "      <td>There is a scientific consensus on the reality of anthropogenic climate change. Human-induced climate change has already caused numerous deaths due to extreme weather events and health conditions exacerbated by heat waves. According to the World Health Organization, climate change is estimated to claim over 150,000 lives annually. Diseases caused by climate fluctuations are becoming more common, from cardiovascular mortality and respiratory illnesses due to heat waves.</td>\n",
       "    </tr>\n",
       "    <tr>\n",
       "      <th>2</th>\n",
       "      <td>2</td>\n",
       "      <td>My position on climate change is that I believe it is occurring and is caused in part by human activities.</td>\n",
       "    </tr>\n",
       "    <tr>\n",
       "      <th>3</th>\n",
       "      <td>3</td>\n",
       "      <td>There is an overwhelming scientific consensus that climate change is primarily caused by human activities. The potential risks to children in connection with climate change are so serious that traditional measures of combatting bad speech may not be adequate or sufficient. Teenagers may be especially affected by the adverse effects of climate change, as they may be more vulnerable to the risks associated with it due to their age.</td>\n",
       "    </tr>\n",
       "    <tr>\n",
       "      <th>4</th>\n",
       "      <td>4</td>\n",
       "      <td>Given the amount of evidence indicating that climate change is occurring, it is likely that human activities are contributing to it. While this phenomenon is still debated among scientists, the consensus is that climate change is occurring and caused in part by human activities.</td>\n",
       "    </tr>\n",
       "  </tbody>\n",
       "</table>\n",
       "</div>"
      ],
      "text/plain": [
       "   id  \\\n",
       "0   0   \n",
       "1   1   \n",
       "2   2   \n",
       "3   3   \n",
       "4   4   \n",
       "\n",
       "                                                                                                                                                                                                                                                                                                                                                                                                                                                             bart_summarized_and_neutralized  \n",
       "0                                                                                                                                                                                                                                                                                                                                                        Climate change is an urgent issue that requires our attention, as the impacts of global warming are becoming more and more evident.  \n",
       "1  There is a scientific consensus on the reality of anthropogenic climate change. Human-induced climate change has already caused numerous deaths due to extreme weather events and health conditions exacerbated by heat waves. According to the World Health Organization, climate change is estimated to claim over 150,000 lives annually. Diseases caused by climate fluctuations are becoming more common, from cardiovascular mortality and respiratory illnesses due to heat waves.  \n",
       "2                                                                                                                                                                                                                                                                                                                                                                                 My position on climate change is that I believe it is occurring and is caused in part by human activities.  \n",
       "3                                          There is an overwhelming scientific consensus that climate change is primarily caused by human activities. The potential risks to children in connection with climate change are so serious that traditional measures of combatting bad speech may not be adequate or sufficient. Teenagers may be especially affected by the adverse effects of climate change, as they may be more vulnerable to the risks associated with it due to their age.  \n",
       "4                                                                                                                                                                                                    Given the amount of evidence indicating that climate change is occurring, it is likely that human activities are contributing to it. While this phenomenon is still debated among scientists, the consensus is that climate change is occurring and caused in part by human activities.  "
      ]
     },
     "execution_count": 76,
     "metadata": {},
     "output_type": "execute_result"
    }
   ],
   "source": [
    "g_n_df.head()"
   ]
  },
  {
   "cell_type": "code",
   "execution_count": 77,
   "metadata": {},
   "outputs": [],
   "source": [
    "# rename bart_gist to neutralized_and_bart_summarized\n",
    "n_g_df = n_g_df.rename(columns={'bart_gist': 'neutralized_and_bart_summarized'})"
   ]
  },
  {
   "cell_type": "code",
   "execution_count": 78,
   "metadata": {},
   "outputs": [
    {
     "data": {
      "text/html": [
       "<div>\n",
       "<style scoped>\n",
       "    .dataframe tbody tr th:only-of-type {\n",
       "        vertical-align: middle;\n",
       "    }\n",
       "\n",
       "    .dataframe tbody tr th {\n",
       "        vertical-align: top;\n",
       "    }\n",
       "\n",
       "    .dataframe thead th {\n",
       "        text-align: right;\n",
       "    }\n",
       "</style>\n",
       "<table border=\"1\" class=\"dataframe\">\n",
       "  <thead>\n",
       "    <tr style=\"text-align: right;\">\n",
       "      <th></th>\n",
       "      <th>id</th>\n",
       "      <th>neutralized_argument</th>\n",
       "      <th>word_count</th>\n",
       "      <th>neutralized_and_bart_summarized</th>\n",
       "    </tr>\n",
       "  </thead>\n",
       "  <tbody>\n",
       "    <tr>\n",
       "      <th>0</th>\n",
       "      <td>0</td>\n",
       "      <td>Climate change is a complex and multifaceted issue, and the causes and effects of it are still being studied and debated. While carbon dioxide exhalation and car emissions do contribute to climate change, the overall effect is still significant. It is important to consider both natural and man-made sources of carbon dioxide when evaluating the effects of climate change. In addition, the evidence suggests that climate change is occurring and that human activities are the major cause. The sources provided give an interesting overview of the topic, but the conclusions drawn should be carefully considered as the accuracy and reliability of the sources should be considered as well.</td>\n",
       "      <td>109</td>\n",
       "      <td>Climate change is a complex and multifaceted issue, and the causes and effects of it are still being studied and debated. While carbon dioxide exhalation and car emissions do</td>\n",
       "    </tr>\n",
       "    <tr>\n",
       "      <th>1</th>\n",
       "      <td>1</td>\n",
       "      <td>The consensus that humans are causing recent global warming is shared by 90-100% of publishing climate scientists according to six independent studies by co-authors of this paper. Those results are consistent with the 97% consensus reported by Cook et al. (2013). This consensus strongly supports the view that humans are causing climate change and that the impacts of climate change could be severe. It is thus essential that we take immediate action to reduce emissions and mitigate the impacts of climate change.</td>\n",
       "      <td>84</td>\n",
       "      <td>The consensus that humans are causing recent global warming is shared by 90-100% of publishing climate scientists. This consensus strongly supports the</td>\n",
       "    </tr>\n",
       "    <tr>\n",
       "      <th>2</th>\n",
       "      <td>2</td>\n",
       "      <td>My position on climate change is that it is undeniable and largely caused by human activities. According to numerous scientific studies, 97% of climate scientists agree that climate change is occurring and is caused by human-induced emissions. Additionally, the arguments presented by climate change deniers are usually not based on facts, but on personal beliefs. It is clear that the climate is changing and it is important for all of us to take action to reduce the impact of our activities on the environment. Sources: Shaftel, H. (Ed.). (2012, January 5). Global Climate Change: Consensus. Retrieved February 3, 2015, from http://climate.nasa.gov...</td>\n",
       "      <td>105</td>\n",
       "      <td>The arguments presented by climate change deniers are usually not based on facts, but on personal beliefs. 97% of climate scientists agree that climate change is occurring and is</td>\n",
       "    </tr>\n",
       "    <tr>\n",
       "      <th>3</th>\n",
       "      <td>3</td>\n",
       "      <td>There is an overwhelming scientific consensus that climate change presents a serious risk to the future of the Earth and to mankind. Many of the threats we face due to climate change are insidious and while with others the connection may not be noticed by the deniers. But they are real and serious. Among these are the spread of potentially lethal diseases such as that caused by the Zika virus. Other diseases formerly confined to the tropics will spread across North America and Europe.   It is clear that climate change poses a real risk, and this risk is being exacerbated by human activity. There are a limited number of circumstances under which free speech can be restricted. One of them is child pornography. The reason that can be banned with violating the 1st Amendment is the harm caused to children in the production of child porn is of such magnitude that it outweighs the importance of the right to freedom of expression.  The spread of climate change-induced diseases and conflict may indeed be a real possibility in the future, and measures should be taken to minimize this risk. Though it is important to be aware of the potential risks, it is also essential to ensure that balanced and accurate information is made available in order to properly inform people of the risks and ensure that the most appropriate actions are taken.  It is important to ensure that reliable information is available to allow people to make informed decisions.</td>\n",
       "      <td>249</td>\n",
       "      <td>There is an overwhelming scientific consensus that climate change presents a serious risk to the future of the Earth and to mankind. There are a limited number of circumstances under which free speech can be restricted. The reason that can be banned with violating the 1st Amendment is the harm caused to children in the production of child porn is of such magnitude.</td>\n",
       "    </tr>\n",
       "    <tr>\n",
       "      <th>4</th>\n",
       "      <td>4</td>\n",
       "      <td>I'll accept this challenge. First, I should ask to be clear: When you say \"climate change is a fraud,\" are you referring specifically to anthropogenic climate change or all climate change? If it is the former, then I believe the evidence suggests that the globe is, in fact, warming at an unprecedented rate and that the majority of scientists are correct in their assessments. However, if you don't believe that climate change is happening at an unprecedented rate, then I am happy to go into the evidence for it.   This debate does require a larger burden of proof as it does involve a complex topic with multiple layers of evidence. It is important to take both sides of the argument into consideration in order to draw a conclusive conclusion.   I am willing to take the time to explain the evidence and to ensure that both sides are presented fairly. It would be beneficial for us to do so in order to fully understand the complexity of the issue. Therefore, I am willing to make the time commitment in order to reach a satisfactory conclusion.  I look forward to engaging in this debate and to learning more about the topic.</td>\n",
       "      <td>201</td>\n",
       "      <td>\"I'll accept this challenge. If you don't believe that climate change is happening at an unprecedented rate, then I am happy to go into the evidence for it,\" he says. \"This debate does require a larger burden of proof as it does involve a complex topic\"</td>\n",
       "    </tr>\n",
       "  </tbody>\n",
       "</table>\n",
       "</div>"
      ],
      "text/plain": [
       "   id  \\\n",
       "0   0   \n",
       "1   1   \n",
       "2   2   \n",
       "3   3   \n",
       "4   4   \n",
       "\n",
       "                                                                                                                                                                                                                                                                                                                                                                                                                                                                                                                                                                                                                                                                                                                                                                                                                                                                                                                                                                                                                                                                                                                                                                                                                                                                                                                                                                                                                                                                                                neutralized_argument  \\\n",
       "0                                                                                                                                                                                                                                                                                                                                                                                                                                                                                                                                                                                                                                                                                                                                                                                                      Climate change is a complex and multifaceted issue, and the causes and effects of it are still being studied and debated. While carbon dioxide exhalation and car emissions do contribute to climate change, the overall effect is still significant. It is important to consider both natural and man-made sources of carbon dioxide when evaluating the effects of climate change. In addition, the evidence suggests that climate change is occurring and that human activities are the major cause. The sources provided give an interesting overview of the topic, but the conclusions drawn should be carefully considered as the accuracy and reliability of the sources should be considered as well.   \n",
       "1                                                                                                                                                                                                                                                                                                                                                                                                                                                                                                                                                                                                                                                                                                                                                                                                                                                                                                                                                                                The consensus that humans are causing recent global warming is shared by 90-100% of publishing climate scientists according to six independent studies by co-authors of this paper. Those results are consistent with the 97% consensus reported by Cook et al. (2013). This consensus strongly supports the view that humans are causing climate change and that the impacts of climate change could be severe. It is thus essential that we take immediate action to reduce emissions and mitigate the impacts of climate change.   \n",
       "2                                                                                                                                                                                                                                                                                                                                                                                                                                                                                                                                                                                                                                                                                                                                                                                                                                     My position on climate change is that it is undeniable and largely caused by human activities. According to numerous scientific studies, 97% of climate scientists agree that climate change is occurring and is caused by human-induced emissions. Additionally, the arguments presented by climate change deniers are usually not based on facts, but on personal beliefs. It is clear that the climate is changing and it is important for all of us to take action to reduce the impact of our activities on the environment. Sources: Shaftel, H. (Ed.). (2012, January 5). Global Climate Change: Consensus. Retrieved February 3, 2015, from http://climate.nasa.gov...   \n",
       "3  There is an overwhelming scientific consensus that climate change presents a serious risk to the future of the Earth and to mankind. Many of the threats we face due to climate change are insidious and while with others the connection may not be noticed by the deniers. But they are real and serious. Among these are the spread of potentially lethal diseases such as that caused by the Zika virus. Other diseases formerly confined to the tropics will spread across North America and Europe.   It is clear that climate change poses a real risk, and this risk is being exacerbated by human activity. There are a limited number of circumstances under which free speech can be restricted. One of them is child pornography. The reason that can be banned with violating the 1st Amendment is the harm caused to children in the production of child porn is of such magnitude that it outweighs the importance of the right to freedom of expression.  The spread of climate change-induced diseases and conflict may indeed be a real possibility in the future, and measures should be taken to minimize this risk. Though it is important to be aware of the potential risks, it is also essential to ensure that balanced and accurate information is made available in order to properly inform people of the risks and ensure that the most appropriate actions are taken.  It is important to ensure that reliable information is available to allow people to make informed decisions.   \n",
       "4                                                                                                                                                                                                                                                                                                                                         I'll accept this challenge. First, I should ask to be clear: When you say \"climate change is a fraud,\" are you referring specifically to anthropogenic climate change or all climate change? If it is the former, then I believe the evidence suggests that the globe is, in fact, warming at an unprecedented rate and that the majority of scientists are correct in their assessments. However, if you don't believe that climate change is happening at an unprecedented rate, then I am happy to go into the evidence for it.   This debate does require a larger burden of proof as it does involve a complex topic with multiple layers of evidence. It is important to take both sides of the argument into consideration in order to draw a conclusive conclusion.   I am willing to take the time to explain the evidence and to ensure that both sides are presented fairly. It would be beneficial for us to do so in order to fully understand the complexity of the issue. Therefore, I am willing to make the time commitment in order to reach a satisfactory conclusion.  I look forward to engaging in this debate and to learning more about the topic.   \n",
       "\n",
       "   word_count  \\\n",
       "0         109   \n",
       "1          84   \n",
       "2         105   \n",
       "3         249   \n",
       "4         201   \n",
       "\n",
       "                                                                                                                                                                                                                                                                                                                                                   neutralized_and_bart_summarized  \n",
       "0                                                                                                                                                                                                   Climate change is a complex and multifaceted issue, and the causes and effects of it are still being studied and debated. While carbon dioxide exhalation and car emissions do  \n",
       "1                                                                                                                                                                                                                          The consensus that humans are causing recent global warming is shared by 90-100% of publishing climate scientists. This consensus strongly supports the  \n",
       "2                                                                                                                                                                                               The arguments presented by climate change deniers are usually not based on facts, but on personal beliefs. 97% of climate scientists agree that climate change is occurring and is  \n",
       "3  There is an overwhelming scientific consensus that climate change presents a serious risk to the future of the Earth and to mankind. There are a limited number of circumstances under which free speech can be restricted. The reason that can be banned with violating the 1st Amendment is the harm caused to children in the production of child porn is of such magnitude.  \n",
       "4                                                                                                                    \"I'll accept this challenge. If you don't believe that climate change is happening at an unprecedented rate, then I am happy to go into the evidence for it,\" he says. \"This debate does require a larger burden of proof as it does involve a complex topic\"  "
      ]
     },
     "execution_count": 78,
     "metadata": {},
     "output_type": "execute_result"
    }
   ],
   "source": [
    "n_g_df.head()"
   ]
  },
  {
   "cell_type": "code",
   "execution_count": 79,
   "metadata": {},
   "outputs": [],
   "source": [
    "neutralized_summarized = n_g_df['neutralized_and_bart_summarized'].tolist()\n",
    "summarized_neutralized = g_n_df['bart_summarized_and_neutralized'].tolist()\n",
    "docs = n_g_df['neutralized_argument'].tolist()"
   ]
  },
  {
   "cell_type": "code",
   "execution_count": 80,
   "metadata": {},
   "outputs": [
    {
     "data": {
      "text/plain": [
       "914.020202020202"
      ]
     },
     "execution_count": 80,
     "metadata": {},
     "output_type": "execute_result"
    }
   ],
   "source": [
    "np.mean([len(x) for x in docs])"
   ]
  },
  {
   "cell_type": "code",
   "execution_count": 81,
   "metadata": {},
   "outputs": [
    {
     "data": {
      "text/plain": [
       "1474.4444444444443"
      ]
     },
     "execution_count": 81,
     "metadata": {},
     "output_type": "execute_result"
    }
   ],
   "source": [
    "np.mean([len(x) for x in documents])"
   ]
  },
  {
   "cell_type": "code",
   "execution_count": 82,
   "metadata": {},
   "outputs": [],
   "source": [
    "with open('../data/visualization-files/args_neutralization_length.jsonl','w', encoding='utf-8') as outf:\n",
    "    for d, n in zip(documents, docs):\n",
    "        record = {}\n",
    "        record['document'] = d\n",
    "        record['reference'] = n\n",
    "        outf.write(json.dumps(record) + \"\\n\")"
   ]
  },
  {
   "cell_type": "code",
   "execution_count": 83,
   "metadata": {},
   "outputs": [],
   "source": [
    "with open('../data/visualization-files/args_ordering_comparison.jsonl','w', encoding='utf-8') as outf:\n",
    "    for d, n_s, s_n in zip(docs, neutralized_summarized, summarized_neutralized):\n",
    "        record = {}\n",
    "        record['document'] = d\n",
    "        record['reference'] = s_n # reference is the neutralized version of the bart summary\n",
    "        record['neutralized_summarized'] = n_s\n",
    "        outf.write(json.dumps(record) + \"\\n\")"
   ]
  },
  {
   "cell_type": "code",
   "execution_count": 84,
   "metadata": {},
   "outputs": [
    {
     "data": {
      "text/plain": [
       "66.03030303030303"
      ]
     },
     "execution_count": 84,
     "metadata": {},
     "output_type": "execute_result"
    }
   ],
   "source": [
    "np.mean([len(x.split(\" \")) for x in summarized_neutralized])"
   ]
  },
  {
   "cell_type": "code",
   "execution_count": 85,
   "metadata": {},
   "outputs": [
    {
     "data": {
      "text/plain": [
       "63.17171717171717"
      ]
     },
     "execution_count": 85,
     "metadata": {},
     "output_type": "execute_result"
    }
   ],
   "source": [
    "np.mean([len(x.split(\" \")) for x in bart_summaries])"
   ]
  },
  {
   "cell_type": "code",
   "execution_count": 86,
   "metadata": {},
   "outputs": [],
   "source": [
    "with open('../data/visualization-files/args_neutralization_of_summaries.jsonl','w', encoding='utf-8') as outf:\n",
    "    for d, n_s, s_n in zip(documents, summarized_neutralized, bart_summaries):\n",
    "        record = {}\n",
    "        record['document'] = d\n",
    "        record['reference'] = s_n # reference is the neutralized version of the bart summary\n",
    "        record['summarized_neutralized'] = n_s\n",
    "        outf.write(json.dumps(record) + \"\\n\")"
   ]
  },
  {
   "cell_type": "markdown",
   "metadata": {},
   "source": [
    "### Analyze annotator comments"
   ]
  },
  {
   "cell_type": "code",
   "execution_count": 2,
   "metadata": {},
   "outputs": [],
   "source": [
    "gist_eval_df = pd.read_csv('../data/snippets_study_results.csv')"
   ]
  },
  {
   "cell_type": "code",
   "execution_count": 3,
   "metadata": {},
   "outputs": [],
   "source": [
    "neutralization_eval_df = pd.read_csv('../data/neutralization_study_results.csv')"
   ]
  },
  {
   "cell_type": "code",
   "execution_count": 4,
   "metadata": {},
   "outputs": [],
   "source": [
    "search_eval_df = pd.read_csv('../data/search_study_results.csv')"
   ]
  },
  {
   "cell_type": "code",
   "execution_count": 5,
   "metadata": {},
   "outputs": [],
   "source": [
    "gist_comments = gist_eval_df['comments'].tolist()\n",
    "neutralization_comments = neutralization_eval_df['comments'].tolist()\n",
    "search_comments = search_eval_df['comments'].tolist()"
   ]
  },
  {
   "cell_type": "code",
   "execution_count": 6,
   "metadata": {},
   "outputs": [
    {
     "data": {
      "text/plain": [
       "(495, 528, 410)"
      ]
     },
     "execution_count": 6,
     "metadata": {},
     "output_type": "execute_result"
    }
   ],
   "source": [
    "len(gist_comments), len(neutralization_comments), len(search_comments)"
   ]
  },
  {
   "cell_type": "code",
   "execution_count": 11,
   "metadata": {},
   "outputs": [],
   "source": [
    "# remove empty comments from each list\n",
    "gist_comments = [x for x in gist_comments if str(x) != 'nan']\n",
    "neutralization_comments = [x for x in neutralization_comments if str(x) != 'nan']\n",
    "search_comments = [x for x in search_comments if str(x) != 'nan']"
   ]
  },
  {
   "cell_type": "code",
   "execution_count": 12,
   "metadata": {},
   "outputs": [
    {
     "data": {
      "text/plain": [
       "(56, 219, 242)"
      ]
     },
     "execution_count": 12,
     "metadata": {},
     "output_type": "execute_result"
    }
   ],
   "source": [
    "len(gist_comments), len(neutralization_comments), len(search_comments)"
   ]
  },
  {
   "cell_type": "code",
   "execution_count": 13,
   "metadata": {},
   "outputs": [],
   "source": [
    "# write each comment to a csv file\n",
    "with open('../data/gist_comments.txt','w', encoding='utf-8') as outf:\n",
    "    for c in gist_comments:\n",
    "        outf.write(c + \"\\n\")\n",
    "\n",
    "with open('../data/neutralization_comments.txt','w', encoding='utf-8') as outf:\n",
    "    for c in neutralization_comments:\n",
    "        outf.write(c + \"\\n\")\n",
    "\n",
    "with open('../data/search_comments.txt','w', encoding='utf-8') as outf:\n",
    "    for c in search_comments:\n",
    "        outf.write(c + \"\\n\")"
   ]
  },
  {
   "cell_type": "code",
   "execution_count": null,
   "metadata": {},
   "outputs": [],
   "source": []
  }
 ],
 "metadata": {
  "kernelspec": {
   "display_name": "Python 3 (ipykernel)",
   "language": "python",
   "name": "python3"
  },
  "language_info": {
   "codemirror_mode": {
    "name": "ipython",
    "version": 3
   },
   "file_extension": ".py",
   "mimetype": "text/x-python",
   "name": "python",
   "nbconvert_exporter": "python",
   "pygments_lexer": "ipython3",
   "version": "3.11.1"
  }
 },
 "nbformat": 4,
 "nbformat_minor": 4
}
