{
 "cells": [
  {
   "cell_type": "code",
   "execution_count": 619,
   "metadata": {},
   "outputs": [],
   "source": [
    "import json\n",
    "from pprint import pprint"
   ]
  },
  {
   "cell_type": "code",
   "execution_count": 620,
   "metadata": {},
   "outputs": [],
   "source": [
    "records = []\n",
    "with open('../data/neutralized_arguments_sample_50.jsonl','r', encoding='utf-8') as f:\n",
    "    for line in f:\n",
    "        records.append(json.loads(line))"
   ]
  },
  {
   "cell_type": "code",
   "execution_count": 621,
   "metadata": {},
   "outputs": [
    {
     "data": {
      "text/plain": [
       "dict_keys(['topic', 'argument', 'neutralized', 'model_reasons', 'model_transformations', 'human_reasons'])"
      ]
     },
     "execution_count": 621,
     "metadata": {},
     "output_type": "execute_result"
    }
   ],
   "source": [
    "records[0].keys()"
   ]
  },
  {
   "cell_type": "code",
   "execution_count": 622,
   "metadata": {},
   "outputs": [],
   "source": [
    "html_content = \"\"\"\n",
    "    <!DOCTYPE html>\n",
    "    <html lang=\"en\">\n",
    "    <head>\n",
    "        <meta charset=\"UTF-8\">\n",
    "        <meta name=\"viewport\" content=\"width=device-width, initial-scale=1.0\">\n",
    "        <title>OASIS Demo</title>\n",
    "        <!-- Include Bootstrap CSS -->\n",
    "        <link href=\"https://cdn.jsdelivr.net/npm/bootstrap@5.3.0/dist/css/bootstrap.min.css\" rel=\"stylesheet\">\n",
    "    </head>\n",
    "    <body>\n",
    "        <div class=\"container mt-5\">\n",
    "            <h2>Argument Neutralization: GPT-4</h2>\n",
    "            <p>Shown below are for each topic the <span class='text-danger'>original argument</span> and its <span class='text-success'>neutralized</span> (appropriate) variant. For the original argument, the reasons for its inappropriateness according to a human are provided. For the neutralized variant, the actions undertaken by the model are provided. Also shown are the various transformations applied to the original argument and the corresponding changes.</p>\n",
    "\"\"\""
   ]
  },
  {
   "cell_type": "code",
   "execution_count": 623,
   "metadata": {},
   "outputs": [
    {
     "data": {
      "text/plain": [
       "dict_keys(['topic', 'argument', 'neutralized', 'model_reasons', 'model_transformations', 'human_reasons'])"
      ]
     },
     "execution_count": 623,
     "metadata": {},
     "output_type": "execute_result"
    }
   ],
   "source": [
    "records[0].keys()"
   ]
  },
  {
   "cell_type": "code",
   "execution_count": 624,
   "metadata": {},
   "outputs": [],
   "source": [
    "for idx, record in enumerate(records, start=1):\n",
    "    human_reasons = record['human_reasons']\n",
    "    model_reasons = record['model_reasons']\n",
    "    html_content += \"<div class='card mb-3'>\"\n",
    "    # add card body\n",
    "    html_content += \"<div class='card-body'>\"\n",
    "    # make topic the card title\n",
    "    html_content += f\"<h5 class='card-title bg-dark-subtle p-2'>{idx})&nbsp;{record['topic']}</h5>\"\n",
    "    # show original argument and neutralized argument side by side in a flexbox\n",
    "    html_content += \"<div class='d-flex mb-2'>\" # flexbox for original and neutralized\n",
    "    html_content += f\"\"\"\n",
    "        <div class='p-2  m-2'>\n",
    "        <p><strong class='text-danger'>Original Argument</strong></p>\n",
    "        <p>{record['argument']}</p>        \n",
    "        <!-- display the human_reasons for inappropriateness of the argument -->\n",
    "        <p><strong class='text-danger'>{record['human_reasons']}</strong></p>\n",
    "        </div>\n",
    "        <div class='p-2  m-2'>\n",
    "        <p><strong class='text-success'>Neutralized</strong></p>\n",
    "        <p>{record['neutralized']}</p>\n",
    "        <!-- display the model_reasons for inappropriateness of the argument -->\n",
    "        <p><strong class='text-success'>{record['model_reasons']}</strong></p>\n",
    "        </div>\n",
    "    \"\"\"\n",
    "    html_content += \"</div>\" # end flexbox for original and neutralized\n",
    "    # show model transformations\n",
    "    html_content += \"<p><strong>Transformations</strong></p>\"\n",
    "    for transformation in record['model_transformations']:\n",
    "        # each transformation is a dict with keys: original_text, transformed_text, action\n",
    "        html_content += \"<div class='d-flex mb-2'>\" # flexbox\n",
    "        html_content += f\"\"\"\n",
    "            <div class='p-2  border border-danger border-2 rounded-2'>\n",
    "            <p>{transformation['original_text']}</p>\n",
    "            </div>\n",
    "            <div class='align-self-center'>\n",
    "            <span class='arrow mx-2'>&rarr;</span>\n",
    "            </div>\n",
    "            <div class='p-2  border border-primary border-2 rounded-2'>\n",
    "            <code style='color:darkblue; font-weight:bold'>{transformation['action']}</code>\n",
    "            </div>\n",
    "            <div class='align-self-center'>\n",
    "            <span class='arrow mx-2'>&rarr;</span>\n",
    "            </div>\n",
    "            <div class='p-2  border border-success border-2 rounded-2'>\n",
    "            <p>{transformation['transformed_text']}</p>\n",
    "            </div>\n",
    "        \"\"\"\n",
    "        html_content += \"</div>\" # end flexbox\n",
    "    html_content += \"</div>\" # end record\n",
    "    html_content += \"</div>\" # end card"
   ]
  },
  {
   "cell_type": "code",
   "execution_count": 625,
   "metadata": {},
   "outputs": [],
   "source": [
    "html_content += \"\"\"\n",
    "    </div>\n",
    "    <!-- Include Bootstrap JS and jQuery (optional) -->\n",
    "    <script src=\"https://code.jquery.com/jquery-3.6.0.min.js\"></script>\n",
    "    <script src=\"https://cdn.jsdelivr.net/npm/bootstrap@5.3.0/dist/js/bootstrap.min.js\"></script>\n",
    "</body>\n",
    "</html>\n",
    "\"\"\""
   ]
  },
  {
   "cell_type": "code",
   "execution_count": 626,
   "metadata": {},
   "outputs": [],
   "source": [
    "with open('oasis-report.html', 'w') as f:\n",
    "    f.write(html_content)"
   ]
  }
 ],
 "metadata": {
  "kernelspec": {
   "display_name": "oasis",
   "language": "python",
   "name": "python3"
  },
  "language_info": {
   "codemirror_mode": {
    "name": "ipython",
    "version": 3
   },
   "file_extension": ".py",
   "mimetype": "text/x-python",
   "name": "python",
   "nbconvert_exporter": "python",
   "pygments_lexer": "ipython3",
   "version": "3.11.1"
  },
  "orig_nbformat": 4
 },
 "nbformat": 4,
 "nbformat_minor": 2
}
