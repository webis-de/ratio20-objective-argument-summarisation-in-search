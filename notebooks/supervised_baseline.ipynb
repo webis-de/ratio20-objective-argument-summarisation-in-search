{
 "cells": [
  {
   "cell_type": "code",
   "execution_count": 1,
   "metadata": {},
   "outputs": [],
   "source": [
    "from transformers import AutoModelForSeq2SeqLM, pipeline, AutoTokenizer\n",
    "from tqdm.autonotebook import tqdm\n",
    "import re\n",
    "import pandas as pd\n",
    "tqdm.pandas()\n",
    "\n",
    "pd.set_option('display.max_colwidth', None)"
   ]
  },
  {
   "cell_type": "code",
   "execution_count": 2,
   "metadata": {},
   "outputs": [],
   "source": [
    "# bart summarization pipeline\n",
    "summarizer = pipeline(\"summarization\", model=\"facebook/bart-large-cnn\", tokenizer=\"facebook/bart-large-cnn\")"
   ]
  },
  {
   "cell_type": "code",
   "execution_count": 3,
   "metadata": {},
   "outputs": [],
   "source": [
    "tokenizer = AutoTokenizer.from_pretrained(\"facebook/bart-large-cnn\")"
   ]
  },
  {
   "cell_type": "code",
   "execution_count": 4,
   "metadata": {},
   "outputs": [],
   "source": [
    "def truncate_text_and_tokenize(text):\n",
    "        tokens = tokenizer(text, return_tensors = \"pt\", truncation=True).input_ids\n",
    "        num_tokens = tokens.size()[1]\n",
    "        if num_tokens>=1024:\n",
    "            _tokens = tokens[0][:num_tokens-3]\n",
    "        else:\n",
    "            _tokens = tokens[0]\n",
    "        tokenized_text = tokenizer.decode(_tokens, skip_special_tokens=False, clean_up_tokenization_spaces=True)\n",
    "        return (_tokens, tokenized_text)"
   ]
  },
  {
   "cell_type": "code",
   "execution_count": 13,
   "metadata": {},
   "outputs": [],
   "source": [
    "#df = pd.read_csv(\"../data/inappropriate_arguments_sample_100_argsme.csv\")\n",
    "df = pd.read_csv(\"../data/results-by-corpus/argsme/neutralization/llama_ppo_rewrite_argsme_llama-7b-harmonic-mean-10a-00ss.csv\", sep=\"\\t\", header=None)\n",
    "df.columns = [\"id\", \"neutralized_argument\"]\n"
   ]
  },
  {
   "cell_type": "code",
   "execution_count": 12,
   "metadata": {},
   "outputs": [],
   "source": [
    "# check for length of at least 200 words\n",
    "def get_word_count(text):\n",
    "    return len(re.findall(r'\\w+', text))"
   ]
  },
  {
   "cell_type": "code",
   "execution_count": 14,
   "metadata": {},
   "outputs": [
    {
     "data": {
      "application/vnd.jupyter.widget-view+json": {
       "model_id": "8507845d2582486993bea370f6b14c0f",
       "version_major": 2,
       "version_minor": 0
      },
      "text/plain": [
       "  0%|          | 0/99 [00:00<?, ?it/s]"
      ]
     },
     "metadata": {},
     "output_type": "display_data"
    }
   ],
   "source": [
    "#df['word_count'] = df['argument'].progress_apply(get_word_count)\n",
    "df['word_count'] = df['neutralized_argument'].progress_apply(get_word_count)"
   ]
  },
  {
   "cell_type": "code",
   "execution_count": 15,
   "metadata": {},
   "outputs": [],
   "source": [
    "def summarize_argument(text, word_count):\n",
    "    _tokens, tokenized_text = truncate_text_and_tokenize(text)\n",
    "    # min_length and max_length should be 25% and 50% of word_count\n",
    "    min_length = int(word_count * 0.25)\n",
    "    max_length = int(word_count * 0.35)\n",
    "    summarization = summarizer(tokenized_text, min_length=min_length, max_length=max_length, clean_up_tokenization_spaces=True)\n",
    "    summary = summarization[0]['summary_text']\n",
    "    return summary"
   ]
  },
  {
   "cell_type": "code",
   "execution_count": 16,
   "metadata": {},
   "outputs": [],
   "source": [
    "def apply_summarization(row):\n",
    "    #argument = row['argument']\n",
    "    argument = row['neutralized_argument']\n",
    "    word_count = int(row['word_count'])\n",
    "    summary = summarize_argument(argument, word_count)\n",
    "    row['bart_gist'] = summary\n",
    "    return row"
   ]
  },
  {
   "cell_type": "code",
   "execution_count": 17,
   "metadata": {},
   "outputs": [
    {
     "data": {
      "application/vnd.jupyter.widget-view+json": {
       "model_id": "7261429d75b54d5ea1c3ff07a46c6dd2",
       "version_major": 2,
       "version_minor": 0
      },
      "text/plain": [
       "  0%|          | 0/99 [00:00<?, ?it/s]"
      ]
     },
     "metadata": {},
     "output_type": "display_data"
    }
   ],
   "source": [
    "s_df = df.progress_apply(apply_summarization, axis=1)"
   ]
  },
  {
   "cell_type": "code",
   "execution_count": 18,
   "metadata": {},
   "outputs": [
    {
     "data": {
      "text/plain": [
       "Index(['id', 'neutralized_argument', 'word_count', 'bart_gist'], dtype='object')"
      ]
     },
     "execution_count": 18,
     "metadata": {},
     "output_type": "execute_result"
    }
   ],
   "source": [
    "s_df.columns"
   ]
  },
  {
   "cell_type": "code",
   "execution_count": 19,
   "metadata": {},
   "outputs": [],
   "source": [
    "s_df.to_csv(\"../data/results-by-corpus/argsme/both/bart_summarized_and_neutralized.csv\")"
   ]
  },
  {
   "cell_type": "code",
   "execution_count": null,
   "metadata": {},
   "outputs": [],
   "source": []
  }
 ],
 "metadata": {
  "kernelspec": {
   "display_name": "oasis",
   "language": "python",
   "name": "python3"
  },
  "language_info": {
   "codemirror_mode": {
    "name": "ipython",
    "version": 3
   },
   "file_extension": ".py",
   "mimetype": "text/x-python",
   "name": "python",
   "nbconvert_exporter": "python",
   "pygments_lexer": "ipython3",
   "version": "3.11.1"
  }
 },
 "nbformat": 4,
 "nbformat_minor": 2
}
